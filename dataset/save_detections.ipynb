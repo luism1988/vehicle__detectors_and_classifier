{
 "cells": [
  {
   "attachments": {},
   "cell_type": "markdown",
   "metadata": {},
   "source": [
    "### Guarda las detecciones en imagenes, para su posterior clasificación."
   ]
  },
  {
   "cell_type": "code",
   "execution_count": null,
   "metadata": {},
   "outputs": [],
   "source": [
    "import cv2\n",
    "import os\n",
    "\n",
    "# Load car classifier\n",
    "car_classifier = cv2.CascadeClassifier('../dataset/cars.xml')\n",
    "\n",
    "# Load video file\n",
    "cap = cv2.VideoCapture('video_salida.mp4')\n",
    "\n",
    "# Set video FPS to 20\n",
    "cap.set(cv2.CAP_PROP_FPS, 15)\n",
    "\n",
    "# Create a directory to store the detected images if it does not exist\n",
    "if not os.path.exists('detecciones'):\n",
    "    os.makedirs('detecciones')\n",
    "x_contador = 0\n",
    "# Loop over the frames from the video\n",
    "while cap.isOpened():\n",
    "    # Read the next frame from the video\n",
    "    ret, frame = cap.read()\n",
    "    \n",
    "    if not ret:\n",
    "        break\n",
    "    \n",
    "    # Convert the frame to grayscale\n",
    "    gray = cv2.cvtColor(frame, cv2.COLOR_BGR2GRAY)\n",
    "    \n",
    "    # Detect cars in the frame\n",
    "    cars = car_classifier.detectMultiScale(gray,scaleFactor=1.05, minNeighbors=5, minSize=(30, 30))\n",
    "    \n",
    "    # Draw bounding boxes around the cars\n",
    "    for (x,y,w,h) in cars:\n",
    "        cv2.rectangle(frame, (x, y), (x+w, y+h), (0, 255, 255), 2)\n",
    "        \n",
    "    # Save image of each detected frame\n",
    "    for i, (x,y,w,h) in enumerate(cars):\n",
    "        \n",
    "        # Extract image of the detected car\n",
    "        car_image = frame[y:y+h, x:x+w]\n",
    "\n",
    "        # Save image of the detected car in JPEG format in the 'detecciones' folder\n",
    "        cv2.imwrite(os.path.join('detecciones', f'carro_{x_contador}.jpg'), car_image)\n",
    "        x_contador += 1\n",
    "    \n",
    "    # Display the resulting frame\n",
    "    cv2.imshow('frame', frame)\n",
    "    \n",
    "    # Wait for user input to move to the next frame\n",
    "    if cv2.waitKey(1) == ord('q'):\n",
    "        break\n",
    "\n",
    "# Release the video capture object and close all windows\n",
    "cap.release()\n",
    "cv2.destroyAllWindows()"
   ]
  }
 ],
 "metadata": {
  "language_info": {
   "name": "python"
  },
  "orig_nbformat": 4
 },
 "nbformat": 4,
 "nbformat_minor": 2
}
