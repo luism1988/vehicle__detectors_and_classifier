{
 "cells": [
  {
   "cell_type": "code",
   "execution_count": null,
   "metadata": {},
   "outputs": [],
   "source": [
    "import streamlit as st\n",
    "from procesar_tiemporeal_mp import mp_en_vivo\n",
    "import cv2\n",
    "import pickle #importar el modelo\n",
    "import numpy as np\n",
    "import os #trabaja con las rutas del sistema operativo\n",
    "\n",
    "#devuelve toda la ruta del sistema operativo hasta finalPproject, no hasta dentro\n",
    "separator = os.path.sep\n",
    "path_act = os.path.dirname(os.path.abspath(__file__))\n",
    "dir = separator.join(path_act.split(separator)[:-1])\n",
    "\n",
    "#especifica la ruta aún más\n",
    "with open(f'{dir}/modelo/modelo_abecedario.pkl', 'rb') as f:\n",
    "    model_abc = pickle.load(f)\n",
    "\n",
    "\n",
    "st.title(\"Identysigns\")\n",
    "run = st.checkbox('Predice Vocal') #boton mientras que no se le de no se ejecytará lo siguiente\n",
    "FRAME_WINDOW = st.image([]) #imagen en streamlit\n",
    "cam = cv2.VideoCapture(0) #instancia de la webcam\n",
    "\n",
    "while run: #si se la ha dado al boton o no\n",
    "    _,frame = cam.read() #frame=imagen actual del video\n",
    "    data = mp_en_vivo(frame) #devuelve los puntos de la imagen del video\n",
    "    data = np.array(data) #convierte en array\n",
    "    y_pred = model_abc.predict(data.reshape(-1,63)) #pasamos el modelo para que haga la predicción\n",
    "    font = cv2.FONT_HERSHEY_SIMPLEX #tipo de letra\n",
    "    position = (50, 100) #donde aparecerá la letra\n",
    "    fontScale = 3 #tamaño de la letra\n",
    "    color = (0, 0, 0) #color en RGB\n",
    "    thickness = 5 #grosor de la letra\n",
    "    letter = str(y_pred[0]) #es 0 porque es un array de 1 posicion y solo quiero la letra\n",
    "    frame = cv2.cvtColor(frame, cv2.COLOR_BGR2RGB) #haciendo la imagen que va a mostrar streamlit\n",
    "    frame = cv2.putText(frame, letter, position, font, \n",
    "                    fontScale, color, thickness, cv2.LINE_AA) #el texto que va a mostrar el streamlit\n",
    "    FRAME_WINDOW.image(frame) #pintamos la imagen actual del video despues de todas las características que hemos puesto\n",
    "else: \n",
    "    st.write(\"Has salido de la app\") #si el boton no esta puesto\n",
    "    cam.release()\n",
    "    cv2.destroyAllWindows() #cierra todo"
   ]
  }
 ],
 "metadata": {
  "language_info": {
   "name": "python"
  },
  "orig_nbformat": 4
 },
 "nbformat": 4,
 "nbformat_minor": 2
}
