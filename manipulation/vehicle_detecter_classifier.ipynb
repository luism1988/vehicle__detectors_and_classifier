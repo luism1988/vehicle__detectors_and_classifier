{
 "cells": [
  {
   "attachments": {},
   "cell_type": "markdown",
   "metadata": {},
   "source": [
    "### Deteccion de vehiculo en área de interes y prediccion con etiqueta"
   ]
  },
  {
   "cell_type": "code",
   "execution_count": 2,
   "metadata": {},
   "outputs": [],
   "source": [
    "import cv2\n",
    "import time\n",
    "from keras.applications.imagenet_utils import preprocess_input#, decode_predictions\n",
    "from keras.models import load_model\n",
    "import matplotlib.pyplot as plt\n",
    "import numpy as np\n",
    "from videos.funtions import roi_detection, vehicle_classifier_and_labeler"
   ]
  },
  {
   "cell_type": "code",
   "execution_count": 8,
   "metadata": {},
   "outputs": [
    {
     "name": "stdout",
     "output_type": "stream",
     "text": [
      "1/1 [==============================] - 0s 443ms/step\n",
      "1/1 [==============================] - 0s 324ms/step\n",
      "1/1 [==============================] - 0s 236ms/step\n",
      "1/1 [==============================] - 0s 235ms/step\n",
      "1/1 [==============================] - 0s 206ms/step\n",
      "1/1 [==============================] - 0s 208ms/step\n",
      "1/1 [==============================] - 0s 241ms/step\n",
      "1/1 [==============================] - 0s 237ms/step\n",
      "1/1 [==============================] - 0s 308ms/step\n",
      "1/1 [==============================] - 0s 192ms/step\n",
      "1/1 [==============================] - 0s 219ms/step\n",
      "1/1 [==============================] - 0s 213ms/step\n",
      "1/1 [==============================] - 0s 194ms/step\n",
      "1/1 [==============================] - 0s 222ms/step\n",
      "1/1 [==============================] - 0s 188ms/step\n",
      "1/1 [==============================] - 0s 183ms/step\n",
      "1/1 [==============================] - 0s 211ms/step\n",
      "1/1 [==============================] - 0s 211ms/step\n",
      "1/1 [==============================] - 0s 203ms/step\n",
      "1/1 [==============================] - 0s 230ms/step\n",
      "1/1 [==============================] - 0s 255ms/step\n",
      "1/1 [==============================] - 0s 215ms/step\n",
      "1/1 [==============================] - 0s 215ms/step\n",
      "1/1 [==============================] - 0s 204ms/step\n",
      "1/1 [==============================] - 0s 207ms/step\n",
      "1/1 [==============================] - 0s 217ms/step\n",
      "1/1 [==============================] - 0s 232ms/step\n",
      "1/1 [==============================] - 0s 227ms/step\n",
      "1/1 [==============================] - 0s 202ms/step\n",
      "1/1 [==============================] - 0s 216ms/step\n",
      "1/1 [==============================] - 0s 211ms/step\n",
      "1/1 [==============================] - 0s 196ms/step\n"
     ]
    }
   ],
   "source": [
    "\n",
    "\n",
    "# Load car classifier\n",
    "car_classifier = cv2.CascadeClassifier('../datasets/cars.xml')\n",
    "\n",
    "# Load video file\n",
    "cap = cv2.VideoCapture('videos/mer1_mod.mp4')\n",
    "\n",
    "# Set video FPS to 20\n",
    "\n",
    "cap.set(cv2.CAP_PROP_FPS,0.1)\n",
    "\n",
    "#fps = cap.get(cv2.CAP_PROP_FPS)\n",
    "#print(\"fps:\",fps)\n",
    "#load model\n",
    "model = load_model(\"../nn_model_vgg_19_v2_200.h5\")\n",
    "names = ['bus', 'car', 'truck']\n",
    "count = 1\n",
    "# Loop over the frames from the video\n",
    "while cap.isOpened():\n",
    "    if count%2==0:\n",
    "        # Read the next frame from the video\n",
    "        ret, frame = cap.read()\n",
    "        if not ret:\n",
    "            break\n",
    "\n",
    "        # Detect cars in the frame\n",
    "        # Define las coordenadas del ROI (Region of interest)\n",
    "        x1, y1 = 100, 550\n",
    "        x2, y2 = 720, 750\n",
    "\n",
    "        #Region of interest\n",
    "        roi = frame[y1:y2,x1:x2]\n",
    "\n",
    "        cars = roi_detection(frame,car_classifier, roi, x1,x2,y1,y2)\n",
    " \n",
    "        # Para cada deteccion realizar la clasificacion y dibujar la etiqueta\n",
    "        for (x,y,w,h) in cars:\n",
    "            \n",
    "            preds = vehicle_classifier_and_labeler(x, y, x1, y1, w, h, model, frame, roi)\n",
    "            posicion_etiqueta = (x+x1 , y+y1 - 10)\n",
    "            #Colocar etiqueta\n",
    "            cv2.putText(frame, names[np.argmax(preds)], posicion_etiqueta, cv2.FONT_HERSHEY_SIMPLEX, 0.5, (0, 255, 0), 2)\n",
    "        \n",
    "\n",
    "        # Display the resulting frame\n",
    "        cv2.imshow('frame', frame)\n",
    "            \n",
    "    # Wait for user input to move to the next frame\n",
    "    if cv2.waitKey(1) == ord('q'):\n",
    "        break\n",
    "    count += 1\n",
    "# Release the video capture object and close all windows\n",
    "cap.release()\n",
    "cv2.destroyAllWindows()"
   ]
  },
  {
   "cell_type": "markdown",
   "metadata": {},
   "source": []
  }
 ],
 "metadata": {
  "kernelspec": {
   "display_name": "Python 3",
   "language": "python",
   "name": "python3"
  },
  "language_info": {
   "codemirror_mode": {
    "name": "ipython",
    "version": 3
   },
   "file_extension": ".py",
   "mimetype": "text/x-python",
   "name": "python",
   "nbconvert_exporter": "python",
   "pygments_lexer": "ipython3",
   "version": "3.8.10"
  },
  "orig_nbformat": 4
 },
 "nbformat": 4,
 "nbformat_minor": 2
}
