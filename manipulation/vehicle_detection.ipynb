{
 "cells": [
  {
   "cell_type": "code",
   "execution_count": null,
   "metadata": {},
   "outputs": [],
   "source": [
    "import cv2\n",
    "import os\n",
    "import matplotlib.pyplot as plt\n",
    "import numpy as np\n",
    "from PIL import Image"
   ]
  },
  {
   "cell_type": "code",
   "execution_count": null,
   "metadata": {},
   "outputs": [],
   "source": [
    "# Load Images\n",
    "images = {\n",
    "    \"train\":{},\n",
    "    \"test\":{}\n",
    "}\n",
    "for typ in [\"train\",\"test\"]:\n",
    "    car_type = [p for p in os.listdir(f\"../dataset/{typ}\")] #if os.path.isdir(f\"../dataset/{typ}/{p}\")]\n",
    "    for vehicle in car_type:\n",
    "        files = os.listdir(f\"../dataset/{typ}/{vehicle}\")\n",
    "        for file in files:\n",
    "            path = f\"../dataset/{typ}/{vehicle}/{file}\"\n",
    "            if path.endswith(\".jpg\") or path.endswith(\".jpeg\"):\n",
    "                img = cv2.imread(path)\n",
    "                aux = img\n",
    "                img = cv2.cvtColor(img, cv2.COLOR_BGR2RGB)\n",
    "                images[typ][vehicle] = images[typ].get(vehicle,[]) + [img]"
   ]
  },
  {
   "cell_type": "code",
   "execution_count": null,
   "metadata": {},
   "outputs": [],
   "source": [
    "plt.imshow(images[\"train\"][\"truck\"][0])"
   ]
  },
  {
   "cell_type": "code",
   "execution_count": null,
   "metadata": {},
   "outputs": [],
   "source": [
    "# convertir las imagnes a gris\n",
    "images_gray = {\n",
    "    \"train\":{},\n",
    "    \"test\":{}\n",
    "}\n",
    "\n",
    "for key, value in images.items():\n",
    "    for vehicle, imgs in value.items():\n",
    "        imgs = [cv2.cvtColor(im, cv2.COLOR_RGB2GRAY) for im in imgs]\n",
    "        images_gray[key][vehicle] = imgs"
   ]
  },
  {
   "cell_type": "code",
   "execution_count": null,
   "metadata": {},
   "outputs": [],
   "source": [
    "plt.imshow(images_gray[\"train\"][\"truck\"][36], cmap=\"gray\")"
   ]
  },
  {
   "cell_type": "code",
   "execution_count": null,
   "metadata": {},
   "outputs": [],
   "source": [
    "vehicle_detect = {\n",
    "    \"train\":{},\n",
    "    \"test\":{}\n",
    "}\n",
    "\n",
    "for key, value in images_gray.items():\n",
    "    for vehicle, imgs in value.items():\n",
    "        imgs = [car_class.detectMultiScale(im,scaleFactor=1.1, minNeighbors=5, minSize=(30, 30)) for im in imgs]\n",
    "\n",
    "        vehicle_detect[key][vehicle] = imgs"
   ]
  },
  {
   "cell_type": "code",
   "execution_count": null,
   "metadata": {},
   "outputs": [],
   "source": [
    "vehicle_detect[\"test\"][\"car\"][2]"
   ]
  },
  {
   "cell_type": "code",
   "execution_count": null,
   "metadata": {},
   "outputs": [],
   "source": [
    "def rect_fr(face):\n",
    "    y,x,y_2,x_2 = face\n",
    "    h = x-x_2\n",
    "    w = y-y_2\n",
    "    \"\"\"\n",
    "    Convert from opencv coordinates to 4 points in matplotlib\n",
    "    \"\"\"\n",
    "    return [\n",
    "        [x,x+w,x+w,x,x],\n",
    "        [y,y,y+h,y+h,y]\n",
    "    ]"
   ]
  }
 ],
 "metadata": {
  "language_info": {
   "name": "python"
  },
  "orig_nbformat": 4
 },
 "nbformat": 4,
 "nbformat_minor": 2
}
